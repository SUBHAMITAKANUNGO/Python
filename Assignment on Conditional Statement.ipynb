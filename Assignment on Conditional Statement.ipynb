{
 "cells": [
  {
   "cell_type": "markdown",
   "id": "bd02519e",
   "metadata": {},
   "source": [
    "## Conditional Statement"
   ]
  },
  {
   "cell_type": "markdown",
   "id": "c152a47f",
   "metadata": {},
   "source": [
    "### 1. Write a program to check whether a given number is even or odd"
   ]
  },
  {
   "cell_type": "code",
   "execution_count": 4,
   "id": "f434b780",
   "metadata": {},
   "outputs": [
    {
     "name": "stdout",
     "output_type": "stream",
     "text": [
      "Enter a number 25\n",
      "Given number is Odd\n"
     ]
    }
   ],
   "source": [
    "a=float(input(\"Enter a number \"))\n",
    "if a%2==0:\n",
    "    print(\"Given number is Even\")\n",
    "else:\n",
    "    print(\"Given number is Odd\")"
   ]
  },
  {
   "cell_type": "markdown",
   "id": "418397e8",
   "metadata": {},
   "source": [
    "### 2. Write a program to check whether an alphabet is a vowel or consonant"
   ]
  },
  {
   "cell_type": "code",
   "execution_count": 5,
   "id": "05a27cf4",
   "metadata": {},
   "outputs": [
    {
     "name": "stdout",
     "output_type": "stream",
     "text": [
      "Enter a letter A\n",
      "The alphabet is Vowel\n"
     ]
    }
   ],
   "source": [
    "x=input(\"Enter a letter \")\n",
    "if (x==\"a\" or x==\"A\" or x==\"e\" or x==\"E\" or x==\"i\" or x==\"I\" or x==\"o\" or x==\"O\" or x==\"u\" or x==\"U\"):\n",
    "    print(\"The alphabet is Vowel\")\n",
    "else:\n",
    "    print(\"The alphabet is consonant\")"
   ]
  },
  {
   "cell_type": "code",
   "execution_count": 21,
   "id": "608070a9",
   "metadata": {},
   "outputs": [
    {
     "name": "stdout",
     "output_type": "stream",
     "text": [
      "Enter the alphabet Hydrogen\n",
      "CONSONANT\n"
     ]
    }
   ],
   "source": [
    "x=input(\"Enter the alphabet \")\n",
    "if x.startswith((\"a\",\"e\",\"i\",\"o\",\"u\")):\n",
    "    print(\"VOWEL\")\n",
    "elif x.startswith((\"A\",\"E\",\"I\",\"O\",\"U\")):\n",
    "    print(\"VOWEL\")\n",
    "else:\n",
    "    print(\"CONSONANT\")"
   ]
  },
  {
   "cell_type": "markdown",
   "id": "f5835283",
   "metadata": {},
   "source": [
    "### 3. Write a program to check whether a person is eligible to vote or not"
   ]
  },
  {
   "cell_type": "code",
   "execution_count": 22,
   "id": "2dc885f7",
   "metadata": {},
   "outputs": [
    {
     "name": "stdout",
     "output_type": "stream",
     "text": [
      "Enter the age17\n",
      "Not Eligible for vote\n"
     ]
    }
   ],
   "source": [
    "x=int(input(\"Enter the age\"))\n",
    "if x>=18:\n",
    "    print(\"Eligible for vote\")\n",
    "else:\n",
    "    print(\"Not Eligible for vote\")"
   ]
  },
  {
   "cell_type": "markdown",
   "id": "f968bee3",
   "metadata": {},
   "source": [
    "### 4. Write a program to check whether a given number is positive,negative or zero"
   ]
  },
  {
   "cell_type": "code",
   "execution_count": 12,
   "id": "63f709d6",
   "metadata": {},
   "outputs": [
    {
     "name": "stdout",
     "output_type": "stream",
     "text": [
      "Enter the number-4.5\n",
      "Negative integer\n"
     ]
    }
   ],
   "source": [
    "x=float(input(\"Enter the number\"))\n",
    "if x>0:\n",
    "    print(\"Positive integer\")\n",
    "elif x<0:\n",
    "    print(\"Negative integer\")\n",
    "else:\n",
    "    print(\"zero\")"
   ]
  },
  {
   "cell_type": "markdown",
   "id": "0a199d9d",
   "metadata": {},
   "source": [
    "### 5. Write a program to check whether a given year is leap or not"
   ]
  },
  {
   "cell_type": "code",
   "execution_count": 1,
   "id": "eebd0e39",
   "metadata": {},
   "outputs": [
    {
     "name": "stdout",
     "output_type": "stream",
     "text": [
      "Enter the year2018\n",
      "Not a leap year\n"
     ]
    }
   ],
   "source": [
    "x=int(input(\"Enter the year\"))\n",
    "if x%400==0:\n",
    "    print(\"Leap Year\")\n",
    "elif x%100==0:\n",
    "    print(\"Not a leap year\")\n",
    "elif x%4==0:\n",
    "    print(\"Leap year\")\n",
    "else:\n",
    "    print(\"Not a leap year\")"
   ]
  },
  {
   "cell_type": "markdown",
   "id": "69a82561",
   "metadata": {},
   "source": [
    "### 6. Write a program to check a triangle is equilateral,isosceles or scalene"
   ]
  },
  {
   "cell_type": "code",
   "execution_count": 3,
   "id": "29b76549",
   "metadata": {},
   "outputs": [
    {
     "name": "stdout",
     "output_type": "stream",
     "text": [
      "Enter the first side of triangle45\n",
      "Enter the second side of triangle45\n",
      "Enter the third side of triangle60\n",
      "Triangle is Isosceles\n"
     ]
    }
   ],
   "source": [
    "a1=float(input(\"Enter the first side of triangle\"))\n",
    "a2=float(input(\"Enter the second side of triangle\"))\n",
    "a3=float(input(\"Enter the third side of triangle\"))\n",
    "if a1==a2==a3:\n",
    "    print(\"Trinagle is Equilateral\")\n",
    "elif a1==a2 or a1==a3 or a2==a3:\n",
    "    print(\"Triangle is Isosceles\")\n",
    "else:\n",
    "    print(\"Triangle is Scalene\")"
   ]
  },
  {
   "cell_type": "markdown",
   "id": "4a634680",
   "metadata": {},
   "source": [
    "### 7.Write a program to check whether after selling a product its profit or loss"
   ]
  },
  {
   "cell_type": "code",
   "execution_count": 4,
   "id": "c30d9a8d",
   "metadata": {},
   "outputs": [
    {
     "name": "stdout",
     "output_type": "stream",
     "text": [
      "Enter the cost price of the product545\n",
      "Enter the selling price of the product544\n",
      "loss\n"
     ]
    }
   ],
   "source": [
    "CP=float(input(\"Enter the cost price of the product\"))\n",
    "SP=float(input(\"Enter the selling price of the product\"))\n",
    "if SP>CP:\n",
    "    print(\"Profit\")\n",
    "elif SP<CP:\n",
    "    print(\"loss\")\n",
    "else:\n",
    "    print(\"No profit no loss\")"
   ]
  },
  {
   "cell_type": "markdown",
   "id": "9f7b316b",
   "metadata": {},
   "source": [
    "### 8. Write a program to enter two numbers and print the greatest number"
   ]
  },
  {
   "cell_type": "code",
   "execution_count": 3,
   "id": "5cf56b50",
   "metadata": {},
   "outputs": [
    {
     "name": "stdout",
     "output_type": "stream",
     "text": [
      "Enter the first number25\n",
      "Enter the first number24.5\n",
      "25.0 is the largest number\n"
     ]
    }
   ],
   "source": [
    "a=float(input(\"Enter the first number\"))\n",
    "b=float(input(\"Enter the first number\"))\n",
    "if a>b:\n",
    "    print(\"{} is the largest number\".format(a))\n",
    "else:\n",
    "    print(\"{} is the largest number\".format(b))"
   ]
  },
  {
   "cell_type": "markdown",
   "id": "dbcd404e",
   "metadata": {},
   "source": [
    "### 9. Write a program to enter two numbers and print the smallest number"
   ]
  },
  {
   "cell_type": "code",
   "execution_count": 5,
   "id": "9de7bfc1",
   "metadata": {},
   "outputs": [
    {
     "name": "stdout",
     "output_type": "stream",
     "text": [
      "Enter the first number26\n",
      "Enter the first number25\n",
      "25.0 is the smallest number\n"
     ]
    }
   ],
   "source": [
    "a=float(input(\"Enter the first number\"))\n",
    "b=float(input(\"Enter the first number\"))\n",
    "if a<b:\n",
    "    print(\"{} is the smallest number\".format(a))\n",
    "else:\n",
    "    print(\"{} is the smallest number\".format(b))"
   ]
  },
  {
   "cell_type": "markdown",
   "id": "30f02cdd",
   "metadata": {},
   "source": [
    "### 10. Write a program to enter three numbers and print the smallest number"
   ]
  },
  {
   "cell_type": "code",
   "execution_count": 11,
   "id": "fde8fe55",
   "metadata": {},
   "outputs": [
    {
     "name": "stdout",
     "output_type": "stream",
     "text": [
      "Enter the first number51\n",
      "Enter the second number50\n",
      "Enter the third number40.05\n",
      "40.05 is the smallest number\n"
     ]
    }
   ],
   "source": [
    "a=float(input(\"Enter the first number\"))\n",
    "b=float(input(\"Enter the second number\"))\n",
    "c=float(input(\"Enter the third number\"))\n",
    "if a<b and a<c:\n",
    "    print(\"{} is the smallest number\".format(a))\n",
    "elif b<a and b<c:\n",
    "    print(\"{} is the smallest number\".format(b))\n",
    "else:\n",
    "    print(\"{} is the smallest number\".format(c))"
   ]
  },
  {
   "cell_type": "markdown",
   "id": "e80b3858",
   "metadata": {},
   "source": [
    "### 11. Write a program to enter three numbers and print the greatest number"
   ]
  },
  {
   "cell_type": "code",
   "execution_count": 12,
   "id": "dea33935",
   "metadata": {},
   "outputs": [
    {
     "name": "stdout",
     "output_type": "stream",
     "text": [
      "Enter the first number50\n",
      "Enter the second number51\n",
      "Enter the third number52.5\n",
      "52.5 is the largest number\n"
     ]
    }
   ],
   "source": [
    "a=float(input(\"Enter the first number\"))\n",
    "b=float(input(\"Enter the second number\"))\n",
    "c=float(input(\"Enter the third number\"))\n",
    "if a>b and a>c:\n",
    "    print(\"{} is the largest number\".format(a))\n",
    "elif b>a and b>c:\n",
    "    print(\"{} is the largest number\".format(b))\n",
    "else:\n",
    "    print(\"{} is the largest number\".format(c))"
   ]
  },
  {
   "cell_type": "markdown",
   "id": "423ecf71",
   "metadata": {},
   "source": [
    "### 12. Write a program to calculate the roots of quadratic equation"
   ]
  },
  {
   "cell_type": "code",
   "execution_count": 18,
   "id": "761bea7c",
   "metadata": {},
   "outputs": [
    {
     "name": "stdout",
     "output_type": "stream",
     "text": [
      "Enter the value of a: 2\n",
      "Enter the value of b: 11\n",
      "Enter the value of c: 5\n",
      "The roots of the quadratic equation are -0.5 and -5.0\n"
     ]
    }
   ],
   "source": [
    "a = float(input(\"Enter the value of a: \"))\n",
    "b = float(input(\"Enter the value of b: \"))\n",
    "c = float(input(\"Enter the value of c: \"))\n",
    "d =(b**2 - 4*a*c)\n",
    "if d > 0:\n",
    "    x1 = (-b + math.sqrt(d)) / (2*a)\n",
    "    x2 = (-b - math.sqrt(d)) / (2*a)\n",
    "    print(\"The roots of the quadratic equation are\", x1, \"and\", x2)\n",
    "elif d == 0:\n",
    "    x = -b / (2*a)\n",
    "    print(\"The root of the quadratic equation is\", x)\n",
    "else:\n",
    "    print(\"The quadratic equation has no real roots\")\n"
   ]
  },
  {
   "cell_type": "markdown",
   "id": "53c04c1c",
   "metadata": {},
   "source": [
    "### 13. Write a program to enter a number between (1-7) and print the respective day of the week"
   ]
  },
  {
   "cell_type": "code",
   "execution_count": 20,
   "id": "804ab1fb",
   "metadata": {},
   "outputs": [
    {
     "name": "stdout",
     "output_type": "stream",
     "text": [
      "Enter the number5\n",
      "Thursday\n"
     ]
    }
   ],
   "source": [
    "D=int(input(\"Enter the number\"))\n",
    "if(D==1):\n",
    "    print(\"Sunday\")\n",
    "elif(D==2):\n",
    "    print(\"Monday\")\n",
    "elif(D==3):\n",
    "    print(\"Tuesday\")\n",
    "elif(D==4):\n",
    "    print(\"Wednesday\")\n",
    "elif(D==5):\n",
    "    print(\"Thursday\")\n",
    "elif(D==6):\n",
    "    print(\"Friday\")\n",
    "else:\n",
    "    print(\"Saturday\")"
   ]
  },
  {
   "cell_type": "code",
   "execution_count": null,
   "id": "77ccc85f",
   "metadata": {},
   "outputs": [],
   "source": []
  }
 ],
 "metadata": {
  "kernelspec": {
   "display_name": "Python 3 (ipykernel)",
   "language": "python",
   "name": "python3"
  },
  "language_info": {
   "codemirror_mode": {
    "name": "ipython",
    "version": 3
   },
   "file_extension": ".py",
   "mimetype": "text/x-python",
   "name": "python",
   "nbconvert_exporter": "python",
   "pygments_lexer": "ipython3",
   "version": "3.9.13"
  }
 },
 "nbformat": 4,
 "nbformat_minor": 5
}
