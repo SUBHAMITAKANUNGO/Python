{
 "cells": [
  {
   "cell_type": "markdown",
   "id": "e1906483",
   "metadata": {},
   "source": [
    "## 1.Print a msg 20 times"
   ]
  },
  {
   "cell_type": "code",
   "execution_count": 1,
   "id": "1210255c",
   "metadata": {},
   "outputs": [
    {
     "name": "stdout",
     "output_type": "stream",
     "text": [
      "Good Morning\n",
      "Good Morning\n",
      "Good Morning\n",
      "Good Morning\n",
      "Good Morning\n",
      "Good Morning\n",
      "Good Morning\n",
      "Good Morning\n",
      "Good Morning\n",
      "Good Morning\n",
      "Good Morning\n",
      "Good Morning\n",
      "Good Morning\n",
      "Good Morning\n",
      "Good Morning\n",
      "Good Morning\n",
      "Good Morning\n",
      "Good Morning\n",
      "Good Morning\n",
      "Good Morning\n"
     ]
    }
   ],
   "source": [
    "i=1\n",
    "while i<=20:\n",
    "    print(\"Good Morning\")\n",
    "    i+=1"
   ]
  },
  {
   "cell_type": "markdown",
   "id": "ef66e880",
   "metadata": {},
   "source": [
    "## 2. Sum of first 20 numbers"
   ]
  },
  {
   "cell_type": "code",
   "execution_count": 1,
   "id": "bfe82b98",
   "metadata": {},
   "outputs": [
    {
     "name": "stdout",
     "output_type": "stream",
     "text": [
      "210\n"
     ]
    }
   ],
   "source": [
    "i=1\n",
    "add=0\n",
    "while i<=20:\n",
    "    add=add+i\n",
    "    i+=1\n",
    "print(add)"
   ]
  },
  {
   "cell_type": "markdown",
   "id": "10dd8a36",
   "metadata": {},
   "source": [
    "## 3. Print sum of user input numbers"
   ]
  },
  {
   "cell_type": "code",
   "execution_count": 2,
   "id": "bf89df94",
   "metadata": {},
   "outputs": [
    {
     "name": "stdout",
     "output_type": "stream",
     "text": [
      "Enter a number325\n",
      "count of a number 10.0\n"
     ]
    }
   ],
   "source": [
    "num=float(input(\"Enter a number\"))    ##325  32  3\n",
    "total=0                               \n",
    "while num>0:                          ##yes  yes y\n",
    "    digit=num%10                       ##5   2   3\n",
    "    total=total+digit                  ##5    7   10  \n",
    "    num=num//10                        ##32   3   0\n",
    "print(\"count of a number\",total)"
   ]
  },
  {
   "cell_type": "markdown",
   "id": "28996bf7",
   "metadata": {},
   "source": [
    "## 4.Print all even number between 1 to 100"
   ]
  },
  {
   "cell_type": "code",
   "execution_count": 2,
   "id": "0fb54794",
   "metadata": {},
   "outputs": [
    {
     "name": "stdout",
     "output_type": "stream",
     "text": [
      "2\n",
      "4\n",
      "6\n",
      "8\n",
      "10\n",
      "12\n",
      "14\n",
      "16\n",
      "18\n",
      "20\n",
      "22\n",
      "24\n",
      "26\n",
      "28\n",
      "30\n",
      "32\n",
      "34\n",
      "36\n",
      "38\n",
      "40\n",
      "42\n",
      "44\n",
      "46\n",
      "48\n",
      "50\n",
      "52\n",
      "54\n",
      "56\n",
      "58\n",
      "60\n",
      "62\n",
      "64\n",
      "66\n",
      "68\n",
      "70\n",
      "72\n",
      "74\n",
      "76\n",
      "78\n",
      "80\n",
      "82\n",
      "84\n",
      "86\n",
      "88\n",
      "90\n",
      "92\n",
      "94\n",
      "96\n",
      "98\n",
      "100\n"
     ]
    }
   ],
   "source": [
    "i=1\n",
    "while i<=100:\n",
    "    if i%2==0:\n",
    "        print(i)\n",
    "    i=i+1"
   ]
  },
  {
   "cell_type": "markdown",
   "id": "3b0dd71e",
   "metadata": {},
   "source": [
    "## 5.Print all odd number between 1 to 100"
   ]
  },
  {
   "cell_type": "code",
   "execution_count": 4,
   "id": "03a85fa0",
   "metadata": {},
   "outputs": [
    {
     "name": "stdout",
     "output_type": "stream",
     "text": [
      "1\n",
      "3\n",
      "5\n",
      "7\n",
      "9\n",
      "11\n",
      "13\n",
      "15\n",
      "17\n",
      "19\n",
      "21\n",
      "23\n",
      "25\n",
      "27\n",
      "29\n",
      "31\n",
      "33\n",
      "35\n",
      "37\n",
      "39\n",
      "41\n",
      "43\n",
      "45\n",
      "47\n",
      "49\n",
      "51\n",
      "53\n",
      "55\n",
      "57\n",
      "59\n",
      "61\n",
      "63\n",
      "65\n",
      "67\n",
      "69\n",
      "71\n",
      "73\n",
      "75\n",
      "77\n",
      "79\n",
      "81\n",
      "83\n",
      "85\n",
      "87\n",
      "89\n",
      "91\n",
      "93\n",
      "95\n",
      "97\n",
      "99\n"
     ]
    }
   ],
   "source": [
    "i=1\n",
    "while i<=100:\n",
    "    if i%2!=0:\n",
    "        print(i)\n",
    "    i=i+1"
   ]
  },
  {
   "cell_type": "markdown",
   "id": "db2c7322",
   "metadata": {},
   "source": [
    "## 6. Table of a number"
   ]
  },
  {
   "cell_type": "code",
   "execution_count": 1,
   "id": "0fe8f9d8",
   "metadata": {},
   "outputs": [
    {
     "name": "stdout",
     "output_type": "stream",
     "text": [
      "enter a number2\n",
      "2 x 1 = 2\n",
      "2 x 2 = 4\n",
      "2 x 3 = 6\n",
      "2 x 4 = 8\n",
      "2 x 5 = 10\n",
      "2 x 6 = 12\n",
      "2 x 7 = 14\n",
      "2 x 8 = 16\n",
      "2 x 9 = 18\n",
      "2 x 10 = 20\n"
     ]
    }
   ],
   "source": [
    "i=1\n",
    "n=int(input(\"enter a number\"))\n",
    "while i<=10:\n",
    "    N=n*i\n",
    "    print(n,\"x\",i,\"=\",N)\n",
    "    i+=1"
   ]
  },
  {
   "cell_type": "markdown",
   "id": "a644b4c7",
   "metadata": {},
   "source": [
    "## 7.Fibonnaci Series"
   ]
  },
  {
   "cell_type": "code",
   "execution_count": 4,
   "id": "6e779acd",
   "metadata": {},
   "outputs": [
    {
     "name": "stdout",
     "output_type": "stream",
     "text": [
      "0\n",
      "1\n",
      "1\n",
      "2\n",
      "3\n",
      "5\n",
      "8\n",
      "13\n",
      "21\n",
      "34\n",
      "55\n",
      "89\n"
     ]
    }
   ],
   "source": [
    "## Ex=0,1,1,2,3,5,8,13,21\n",
    "##    a b c\n",
    "##      a b c\n",
    "##        a b c\n",
    "a=0\n",
    "b=1\n",
    "i=0\n",
    "print(a)\n",
    "print(b)\n",
    "while i<10:\n",
    "    c=a+b\n",
    "    a=b\n",
    "    b=c\n",
    "    i+=1\n",
    "    print(c)\n",
    "    "
   ]
  },
  {
   "cell_type": "markdown",
   "id": "e86a955f",
   "metadata": {},
   "source": [
    "## 8.Palindrome number"
   ]
  },
  {
   "cell_type": "code",
   "execution_count": 11,
   "id": "b9299d80",
   "metadata": {},
   "outputs": [
    {
     "name": "stdout",
     "output_type": "stream",
     "text": [
      "Enter a number1221\n",
      "reverse of a number 1221.0\n",
      "palindrom\n"
     ]
    }
   ],
   "source": [
    "num=float(input(\"Enter a number\"))\n",
    "rev_num=0                        ## 321=123\n",
    "Temp=num\n",
    "while num>0:                     ## 321   32   3\n",
    "    digit=num%10                  ## 1   2    3\n",
    "    rev_num=(rev_num*10)+digit    ## 1   2    3\n",
    "    num=num//10                   ## 32  3    0\n",
    "print(\"reverse of a number\",rev_num)\n",
    "if rev_num==Temp:\n",
    "    print(\"palindrom\")\n",
    "else:\n",
    "    print(\"not palindrom\")"
   ]
  },
  {
   "cell_type": "markdown",
   "id": "3ac74bcf",
   "metadata": {},
   "source": [
    "## 9. Count no. of digit"
   ]
  },
  {
   "cell_type": "code",
   "execution_count": 1,
   "id": "e0a2a4f7",
   "metadata": {},
   "outputs": [
    {
     "name": "stdout",
     "output_type": "stream",
     "text": [
      "Enter a number325\n",
      "count of a number 3\n"
     ]
    }
   ],
   "source": [
    "num=float(input(\"Enter a number\"))    ##325 32  3\n",
    "count=0                               ##0    1   2\n",
    "while num>0:                          ##yes  yes y\n",
    "    num=num//10                       ##32   3   0\n",
    "    count+=1                          ##1    2   3\n",
    "print(\"count of a number\",count)"
   ]
  },
  {
   "cell_type": "markdown",
   "id": "4950cd9a",
   "metadata": {},
   "source": [
    "## 10. Reverse a number"
   ]
  },
  {
   "cell_type": "code",
   "execution_count": 3,
   "id": "11c4c6c9",
   "metadata": {},
   "outputs": [
    {
     "name": "stdout",
     "output_type": "stream",
     "text": [
      "Enter a number:345\n",
      "Reversed number: 543.0\n"
     ]
    }
   ],
   "source": [
    "num=float(input(\"Enter a number:\"))\n",
    "reversed_num=0\n",
    "while num>0:\n",
    "    digit=num%10\n",
    "    reversed_num=(reversed_num*10)+digit\n",
    "    num=num//10\n",
    "print(\"Reversed number:\",reversed_num)"
   ]
  },
  {
   "cell_type": "markdown",
   "id": "acdabe7e",
   "metadata": {},
   "source": [
    "## 11. Sum of the reverse number"
   ]
  },
  {
   "cell_type": "code",
   "execution_count": 4,
   "id": "1e0bb12c",
   "metadata": {},
   "outputs": [
    {
     "name": "stdout",
     "output_type": "stream",
     "text": [
      "Enter a number:543\n",
      "Reversed number: 345.0\n",
      "Sum of a number 12.0\n"
     ]
    }
   ],
   "source": [
    "num=float(input(\"Enter a number:\"))\n",
    "reversed_num=0\n",
    "while num>0:\n",
    "    digit=num%10\n",
    "    reversed_num=(reversed_num*10)+digit\n",
    "    num=num//10\n",
    "print(\"Reversed number:\",reversed_num)\n",
    "total=0                             \n",
    "while reversed_num>0:                     \n",
    "    digit=reversed_num%10\n",
    "    total=total+digit\n",
    "    reversed_num=reversed_num//10\n",
    "print(\"Sum of a number\",total)"
   ]
  },
  {
   "cell_type": "code",
   "execution_count": null,
   "id": "3c873117",
   "metadata": {},
   "outputs": [],
   "source": []
  }
 ],
 "metadata": {
  "kernelspec": {
   "display_name": "Python 3 (ipykernel)",
   "language": "python",
   "name": "python3"
  },
  "language_info": {
   "codemirror_mode": {
    "name": "ipython",
    "version": 3
   },
   "file_extension": ".py",
   "mimetype": "text/x-python",
   "name": "python",
   "nbconvert_exporter": "python",
   "pygments_lexer": "ipython3",
   "version": "3.9.13"
  }
 },
 "nbformat": 4,
 "nbformat_minor": 5
}
