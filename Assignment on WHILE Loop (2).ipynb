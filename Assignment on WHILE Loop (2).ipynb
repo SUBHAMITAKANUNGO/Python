{
 "cells": [
  {
   "cell_type": "markdown",
   "id": "e1906483",
   "metadata": {},
   "source": [
    "## 1.Print a msg 20 times"
   ]
  },
  {
   "cell_type": "code",
   "execution_count": 1,
   "id": "1210255c",
   "metadata": {},
   "outputs": [
    {
     "name": "stdout",
     "output_type": "stream",
     "text": [
      "Good Morning\n",
      "Good Morning\n",
      "Good Morning\n",
      "Good Morning\n",
      "Good Morning\n",
      "Good Morning\n",
      "Good Morning\n",
      "Good Morning\n",
      "Good Morning\n",
      "Good Morning\n",
      "Good Morning\n",
      "Good Morning\n",
      "Good Morning\n",
      "Good Morning\n",
      "Good Morning\n",
      "Good Morning\n",
      "Good Morning\n",
      "Good Morning\n",
      "Good Morning\n",
      "Good Morning\n"
     ]
    }
   ],
   "source": [
    "i=1\n",
    "while i<=20:\n",
    "    print(\"Good Morning\")\n",
    "    i+=1"
   ]
  },
  {
   "cell_type": "markdown",
   "id": "ef66e880",
   "metadata": {},
   "source": [
    "## 2. Sum of first 20 numbers"
   ]
  },
  {
   "cell_type": "code",
   "execution_count": 1,
   "id": "bfe82b98",
   "metadata": {},
   "outputs": [
    {
     "name": "stdout",
     "output_type": "stream",
     "text": [
      "210\n"
     ]
    }
   ],
   "source": [
    "i=1\n",
    "add=0\n",
    "while i<=20:\n",
    "    add=add+i\n",
    "    i+=1\n",
    "print(add)"
   ]
  },
  {
   "cell_type": "markdown",
   "id": "10dd8a36",
   "metadata": {},
   "source": [
    "## 3. Print sum of user input numbers"
   ]
  },
  {
   "cell_type": "code",
   "execution_count": 2,
   "id": "bf89df94",
   "metadata": {},
   "outputs": [
    {
     "name": "stdout",
     "output_type": "stream",
     "text": [
      "Enter a number325\n",
      "count of a number 10.0\n"
     ]
    }
   ],
   "source": [
    "num=float(input(\"Enter a number\"))    ##325  32  3\n",
    "total=0                               \n",
    "while num>0:                          ##yes  yes y\n",
    "    digit=num%10                       ##5   2   3\n",
    "    total=total+digit                  ##5    7   10  \n",
    "    num=num//10                        ##32   3   0\n",
    "print(\"count of a number\",total)"
   ]
  },
  {
   "cell_type": "markdown",
   "id": "28996bf7",
   "metadata": {},
   "source": [
    "## 4.Print all even number between 1 to 100"
   ]
  },
  {
   "cell_type": "code",
   "execution_count": 2,
   "id": "0fb54794",
   "metadata": {},
   "outputs": [
    {
     "name": "stdout",
     "output_type": "stream",
     "text": [
      "2\n",
      "4\n",
      "6\n",
      "8\n",
      "10\n",
      "12\n",
      "14\n",
      "16\n",
      "18\n",
      "20\n",
      "22\n",
      "24\n",
      "26\n",
      "28\n",
      "30\n",
      "32\n",
      "34\n",
      "36\n",
      "38\n",
      "40\n",
      "42\n",
      "44\n",
      "46\n",
      "48\n",
      "50\n",
      "52\n",
      "54\n",
      "56\n",
      "58\n",
      "60\n",
      "62\n",
      "64\n",
      "66\n",
      "68\n",
      "70\n",
      "72\n",
      "74\n",
      "76\n",
      "78\n",
      "80\n",
      "82\n",
      "84\n",
      "86\n",
      "88\n",
      "90\n",
      "92\n",
      "94\n",
      "96\n",
      "98\n",
      "100\n"
     ]
    }
   ],
   "source": [
    "i=1\n",
    "while i<=100:\n",
    "    if i%2==0:\n",
    "        print(i)\n",
    "    i=i+1"
   ]
  },
  {
   "cell_type": "markdown",
   "id": "3b0dd71e",
   "metadata": {},
   "source": [
    "## 5.Print all odd number between 1 to 100"
   ]
  },
  {
   "cell_type": "code",
   "execution_count": 4,
   "id": "03a85fa0",
   "metadata": {},
   "outputs": [
    {
     "name": "stdout",
     "output_type": "stream",
     "text": [
      "1\n",
      "3\n",
      "5\n",
      "7\n",
      "9\n",
      "11\n",
      "13\n",
      "15\n",
      "17\n",
      "19\n",
      "21\n",
      "23\n",
      "25\n",
      "27\n",
      "29\n",
      "31\n",
      "33\n",
      "35\n",
      "37\n",
      "39\n",
      "41\n",
      "43\n",
      "45\n",
      "47\n",
      "49\n",
      "51\n",
      "53\n",
      "55\n",
      "57\n",
      "59\n",
      "61\n",
      "63\n",
      "65\n",
      "67\n",
      "69\n",
      "71\n",
      "73\n",
      "75\n",
      "77\n",
      "79\n",
      "81\n",
      "83\n",
      "85\n",
      "87\n",
      "89\n",
      "91\n",
      "93\n",
      "95\n",
      "97\n",
      "99\n"
     ]
    }
   ],
   "source": [
    "i=1\n",
    "while i<=100:\n",
    "    if i%2!=0:\n",
    "        print(i)\n",
    "    i=i+1"
   ]
  },
  {
   "cell_type": "markdown",
   "id": "db2c7322",
   "metadata": {},
   "source": [
    "## 6. Table of a number"
   ]
  },
  {
   "cell_type": "code",
   "execution_count": 1,
   "id": "0fe8f9d8",
   "metadata": {},
   "outputs": [
    {
     "name": "stdout",
     "output_type": "stream",
     "text": [
      "enter a number2\n",
      "2 x 1 = 2\n",
      "2 x 2 = 4\n",
      "2 x 3 = 6\n",
      "2 x 4 = 8\n",
      "2 x 5 = 10\n",
      "2 x 6 = 12\n",
      "2 x 7 = 14\n",
      "2 x 8 = 16\n",
      "2 x 9 = 18\n",
      "2 x 10 = 20\n"
     ]
    }
   ],
   "source": [
    "i=1\n",
    "n=int(input(\"enter a number\"))\n",
    "while i<=10:\n",
    "    N=n*i\n",
    "    print(n,\"x\",i,\"=\",N)\n",
    "    i+=1"
   ]
  },
  {
   "cell_type": "markdown",
   "id": "a644b4c7",
   "metadata": {},
   "source": [
    "## 7.Fibonnaci Series"
   ]
  },
  {
   "cell_type": "code",
   "execution_count": 4,
   "id": "6e779acd",
   "metadata": {},
   "outputs": [
    {
     "name": "stdout",
     "output_type": "stream",
     "text": [
      "0\n",
      "1\n",
      "1\n",
      "2\n",
      "3\n",
      "5\n",
      "8\n",
      "13\n",
      "21\n",
      "34\n",
      "55\n",
      "89\n"
     ]
    }
   ],
   "source": [
    "## Ex=0,1,1,2,3,5,8,13,21\n",
    "##    a b c\n",
    "##      a b c\n",
    "##        a b c\n",
    "a=0\n",
    "b=1\n",
    "i=0\n",
    "print(a)\n",
    "print(b)\n",
    "while i<10:\n",
    "    c=a+b\n",
    "    a=b\n",
    "    b=c\n",
    "    i+=1\n",
    "    print(c)\n",
    "    "
   ]
  },
  {
   "cell_type": "markdown",
   "id": "e86a955f",
   "metadata": {},
   "source": [
    "## 8.Palindrome number"
   ]
  },
  {
   "cell_type": "code",
   "execution_count": 11,
   "id": "b9299d80",
   "metadata": {},
   "outputs": [
    {
     "name": "stdout",
     "output_type": "stream",
     "text": [
      "Enter a number1221\n",
      "reverse of a number 1221.0\n",
      "palindrom\n"
     ]
    }
   ],
   "source": [
    "num=float(input(\"Enter a number\"))\n",
    "rev_num=0                        ## 321=123\n",
    "Temp=num\n",
    "while num>0:                     ## 321   32   3\n",
    "    digit=num%10                  ## 1   2    3\n",
    "    rev_num=(rev_num*10)+digit    ## 1   2    3\n",
    "    num=num//10                   ## 32  3    0\n",
    "print(\"reverse of a number\",rev_num)\n",
    "if rev_num==Temp:\n",
    "    print(\"palindrom\")\n",
    "else:\n",
    "    print(\"not palindrom\")"
   ]
  },
  {
   "cell_type": "markdown",
   "id": "3ac74bcf",
   "metadata": {},
   "source": [
    "## 9. Count no. of digit"
   ]
  },
  {
   "cell_type": "code",
   "execution_count": 1,
   "id": "e0a2a4f7",
   "metadata": {},
   "outputs": [
    {
     "name": "stdout",
     "output_type": "stream",
     "text": [
      "Enter a number325\n",
      "count of a number 3\n"
     ]
    }
   ],
   "source": [
    "num=float(input(\"Enter a number\"))    ##325 32  3\n",
    "count=0                               ##0    1   2\n",
    "while num>0:                          ##yes  yes y\n",
    "    num=num//10                       ##32   3   0\n",
    "    count+=1                          ##1    2   3\n",
    "print(\"count of a number\",count)"
   ]
  },
  {
   "cell_type": "markdown",
   "id": "4950cd9a",
   "metadata": {},
   "source": [
    "## 10. Reverse a number"
   ]
  },
  {
   "cell_type": "code",
   "execution_count": 3,
   "id": "11c4c6c9",
   "metadata": {},
   "outputs": [
    {
     "name": "stdout",
     "output_type": "stream",
     "text": [
      "Enter a number:345\n",
      "Reversed number: 543.0\n"
     ]
    }
   ],
   "source": [
    "num=float(input(\"Enter a number:\"))\n",
    "reversed_num=0\n",
    "while num>0:\n",
    "    digit=num%10\n",
    "    reversed_num=(reversed_num*10)+digit\n",
    "    num=num//10\n",
    "print(\"Reversed number:\",reversed_num)"
   ]
  },
  {
   "cell_type": "markdown",
   "id": "acdabe7e",
   "metadata": {},
   "source": [
    "## 11. Sum of the reverse number"
   ]
  },
  {
   "cell_type": "code",
   "execution_count": 4,
   "id": "1e0bb12c",
   "metadata": {},
   "outputs": [
    {
     "name": "stdout",
     "output_type": "stream",
     "text": [
      "Enter a number:543\n",
      "Reversed number: 345.0\n",
      "Sum of a number 12.0\n"
     ]
    }
   ],
   "source": [
    "num=float(input(\"Enter a number:\"))\n",
    "reversed_num=0\n",
    "while num>0:\n",
    "    digit=num%10\n",
    "    reversed_num=(reversed_num*10)+digit\n",
    "    num=num//10\n",
    "print(\"Reversed number:\",reversed_num)\n",
    "total=0                             \n",
    "while reversed_num>0:                     \n",
    "    digit=reversed_num%10\n",
    "    total=total+digit\n",
    "    reversed_num=reversed_num//10\n",
    "print(\"Sum of a number\",total)"
   ]
  },
  {
   "cell_type": "markdown",
   "id": "039015dc",
   "metadata": {},
   "source": [
    "## 12.Write a program to check whether a given number is prime or not"
   ]
  },
  {
   "cell_type": "code",
   "execution_count": 16,
   "id": "0978e765",
   "metadata": {},
   "outputs": [
    {
     "name": "stdout",
     "output_type": "stream",
     "text": [
      "Enter a number =19\n",
      "It's a prime 19\n"
     ]
    }
   ],
   "source": [
    "num=int(input(\"Enter a number =\"))           #19\n",
    "if num<2:                                    #no\n",
    "    print(\"It is not a prime number\",num)\n",
    "else:\n",
    "    for i in range(2,num):                  \n",
    "        if num%i==0:                        #no\n",
    "            print(\"it's not a prime mumber\",num)\n",
    "            break\n",
    "    else:\n",
    "        print(\"It's a prime\",num)         "
   ]
  },
  {
   "cell_type": "markdown",
   "id": "c4290342",
   "metadata": {},
   "source": [
    "## 13.Print the cubes of the numbers from 1 to the given number"
   ]
  },
  {
   "cell_type": "code",
   "execution_count": 17,
   "id": "f738cdae",
   "metadata": {},
   "outputs": [
    {
     "name": "stdout",
     "output_type": "stream",
     "text": [
      "Enter a number: 4\n",
      "1\n",
      "8\n",
      "27\n",
      "64\n"
     ]
    }
   ],
   "source": [
    "num=int(input(\"Enter a number: \"))\n",
    "i=1\n",
    "while i<=num:\n",
    "    print(i**3)\n",
    "    i+=1"
   ]
  },
  {
   "cell_type": "markdown",
   "id": "13f811aa",
   "metadata": {},
   "source": [
    "## For loop"
   ]
  },
  {
   "cell_type": "code",
   "execution_count": 20,
   "id": "28a7118c",
   "metadata": {},
   "outputs": [
    {
     "name": "stdout",
     "output_type": "stream",
     "text": [
      "1\n",
      "12\n",
      "123\n",
      "1234\n",
      "12345\n"
     ]
    }
   ],
   "source": [
    "### 1. Write a program to print the following number pattern using a loop\n",
    "for i in range(1,6):        \n",
    "    for j in range(1,i+1):   \n",
    "        print(j,end=\"\")\n",
    "    print()"
   ]
  },
  {
   "cell_type": "code",
   "execution_count": 3,
   "id": "adb1431c",
   "metadata": {},
   "outputs": [
    {
     "name": "stdout",
     "output_type": "stream",
     "text": [
      "enter a number5\n",
      "12345\n",
      "1234\n",
      "123\n",
      "12\n",
      "1\n"
     ]
    }
   ],
   "source": [
    "n=int(input(\"enter a number\"))\n",
    "for i in range(n):\n",
    "    for j in range(n-i):\n",
    "        print(j+1,end=\"\")\n",
    "    print()"
   ]
  },
  {
   "cell_type": "code",
   "execution_count": 1,
   "id": "112a6536",
   "metadata": {},
   "outputs": [
    {
     "name": "stdout",
     "output_type": "stream",
     "text": [
      "enter a number5\n",
      "5\n",
      "54\n",
      "543\n",
      "5432\n",
      "54321\n",
      "543210\n"
     ]
    }
   ],
   "source": [
    "n=int(input(\"enter a number\"))\n",
    "for i in range(n,-1,-1):\n",
    "    for j in range(n,i-1,-1):\n",
    "        print(j,end=\"\")\n",
    "    print() "
   ]
  },
  {
   "cell_type": "code",
   "execution_count": 11,
   "id": "c71c546e",
   "metadata": {},
   "outputs": [
    {
     "name": "stdout",
     "output_type": "stream",
     "text": [
      "enter a number5\n",
      "54321\n",
      "5432\n",
      "543\n",
      "54\n",
      "5\n"
     ]
    }
   ],
   "source": [
    "n=int(input(\"enter a number\"))          #I #J 0 1 2 3 4 \n",
    "for i in range(n):                        #0  5 4 3 2 1\n",
    "    for j in range(n-i):                  #1  5 4 3 2\n",
    "        print(n-j,end=\"\")                 #2  5 4 3\n",
    "    print()                               #3  5 4     \n",
    "                                          #4  5\n",
    "                               \n",
    "                         \n",
    "    \n"
   ]
  },
  {
   "cell_type": "code",
   "execution_count": 1,
   "id": "9f5fb61b",
   "metadata": {},
   "outputs": [
    {
     "name": "stdout",
     "output_type": "stream",
     "text": [
      "enter a number5\n",
      "54321\n",
      "4321\n",
      "321\n",
      "21\n",
      "1\n"
     ]
    }
   ],
   "source": [
    "n=int(input(\"enter a number\"))          #I #J   0 1 2 3 4 \n",
    "for i in range(n):                          #0  5 4 3 2 1\n",
    "    for j in range(n-i-1,-1,-1):            #1  4 3 2 1\n",
    "        print(j+1,end=\"\")                   #2  3 2 1\n",
    "    print()                                 #3  2 1     \n",
    "                                            #4  1"
   ]
  },
  {
   "cell_type": "markdown",
   "id": "333902a1",
   "metadata": {},
   "source": [
    "## Alphabet pattern"
   ]
  },
  {
   "cell_type": "code",
   "execution_count": 6,
   "id": "6d007873",
   "metadata": {},
   "outputs": [
    {
     "name": "stdout",
     "output_type": "stream",
     "text": [
      "A\n",
      "AB\n",
      "ABC\n",
      "ABCD\n",
      "ABCDE\n",
      "ABCDEF\n"
     ]
    }
   ],
   "source": [
    "for i in range(6): \n",
    "    for j in range(i+1): \n",
    "        print(chr(65+j),end=\"\")\n",
    "    print()"
   ]
  },
  {
   "cell_type": "code",
   "execution_count": 8,
   "id": "a9b8e1ab",
   "metadata": {},
   "outputs": [
    {
     "name": "stdout",
     "output_type": "stream",
     "text": [
      "A\n",
      "BB\n",
      "CCC\n",
      "DDDD\n",
      "EEEEE\n",
      "FFFFFF\n"
     ]
    }
   ],
   "source": [
    "for i in range(6): \n",
    "    for j in range(i+1): \n",
    "        print(chr(65+i),end=\"\")\n",
    "    print()"
   ]
  },
  {
   "cell_type": "code",
   "execution_count": 13,
   "id": "1fec8e80",
   "metadata": {},
   "outputs": [
    {
     "name": "stdout",
     "output_type": "stream",
     "text": [
      "enter a number5\n",
      "ABCDE\n",
      "ABCD\n",
      "ABC\n",
      "AB\n",
      "A\n",
      "\n"
     ]
    }
   ],
   "source": [
    "n=int(input(\"enter a number\"))\n",
    "for i in range(n,-1,-1):\n",
    "    for j in range(0,i):\n",
    "        print(chr(65+j),end=\"\")\n",
    "    print()"
   ]
  },
  {
   "cell_type": "code",
   "execution_count": 19,
   "id": "c424cdd7",
   "metadata": {},
   "outputs": [
    {
     "name": "stdout",
     "output_type": "stream",
     "text": [
      "enter a number4\n",
      "EEEEE\n",
      "DDDD\n",
      "CCC\n",
      "BB\n",
      "A\n"
     ]
    }
   ],
   "source": [
    "n=int(input(\"enter a number\"))\n",
    "for i in range(n,-1,-1):          #EEEEE\n",
    "    for j in range(0,i+1):        #DDDD\n",
    "        print(chr(65+i),end=\"\")   #CC\n",
    "    print()                       #BB\n",
    "                                  #A"
   ]
  },
  {
   "cell_type": "markdown",
   "id": "fb42859f",
   "metadata": {},
   "source": [
    "## Star Pattern"
   ]
  },
  {
   "cell_type": "code",
   "execution_count": 8,
   "id": "63256481",
   "metadata": {},
   "outputs": [
    {
     "name": "stdout",
     "output_type": "stream",
     "text": [
      "*\n",
      "**\n",
      "***\n",
      "****\n",
      "*****\n",
      "******\n"
     ]
    }
   ],
   "source": [
    "for i in range(6): \n",
    "    for j in range(i+1): \n",
    "        print(\"*\",end=\"\")\n",
    "    print()"
   ]
  },
  {
   "cell_type": "code",
   "execution_count": 7,
   "id": "8371c594",
   "metadata": {},
   "outputs": [
    {
     "name": "stdout",
     "output_type": "stream",
     "text": [
      "enter a number5\n",
      "*****\n",
      "*****\n",
      "*****\n",
      "*****\n",
      "*****\n"
     ]
    }
   ],
   "source": [
    "n=int(input(\"enter a number\"))\n",
    "for i in range(n): \n",
    "    for j in range(n): \n",
    "        print(\"*\",end=\"\")\n",
    "    print()"
   ]
  },
  {
   "cell_type": "code",
   "execution_count": 20,
   "id": "03a6c722",
   "metadata": {},
   "outputs": [
    {
     "name": "stdout",
     "output_type": "stream",
     "text": [
      "enter a number5\n",
      "*****\n",
      "****\n",
      "***\n",
      "**\n",
      "*\n",
      "\n"
     ]
    }
   ],
   "source": [
    "n=int(input(\"enter a number\"))\n",
    "for i in range(n,-1,-1): \n",
    "    for j in range(0,i): \n",
    "        print(\"*\",end=\"\")\n",
    "    print()"
   ]
  },
  {
   "cell_type": "code",
   "execution_count": 21,
   "id": "0b193c2c",
   "metadata": {},
   "outputs": [
    {
     "name": "stdout",
     "output_type": "stream",
     "text": [
      "enter a number5\n",
      "*****\n",
      "****\n",
      "***\n",
      "**\n",
      "*\n",
      "\n"
     ]
    }
   ],
   "source": [
    "n=int(input(\"enter a number\"))\n",
    "for i in range(n,-1,-1): \n",
    "    for j in range(i): \n",
    "        print(\"*\",end=\"\")\n",
    "    print()"
   ]
  },
  {
   "cell_type": "code",
   "execution_count": 22,
   "id": "8c45edab",
   "metadata": {},
   "outputs": [
    {
     "name": "stdout",
     "output_type": "stream",
     "text": [
      "*****\n",
      " ****\n",
      "  ***\n",
      "   **\n",
      "    *\n"
     ]
    }
   ],
   "source": [
    "for i in range(5):\n",
    "    print(\" \" * i + \"*\" * (5-i))\n"
   ]
  },
  {
   "cell_type": "code",
   "execution_count": 8,
   "id": "18edcee8",
   "metadata": {},
   "outputs": [
    {
     "name": "stdout",
     "output_type": "stream",
     "text": [
      "     *\n",
      "    **\n",
      "   ***\n",
      "  ****\n",
      " *****\n",
      "******\n"
     ]
    }
   ],
   "source": [
    "for i in range(1, 7):        \n",
    "    for j in range(6-i):  \n",
    "        print(\" \", end=\"\")\n",
    "    for k in range(i):      \n",
    "        print(\"*\", end=\"\")\n",
    "    print()                 \n"
   ]
  },
  {
   "cell_type": "code",
   "execution_count": null,
   "id": "c081ebeb",
   "metadata": {},
   "outputs": [],
   "source": []
  }
 ],
 "metadata": {
  "kernelspec": {
   "display_name": "Python 3 (ipykernel)",
   "language": "python",
   "name": "python3"
  },
  "language_info": {
   "codemirror_mode": {
    "name": "ipython",
    "version": 3
   },
   "file_extension": ".py",
   "mimetype": "text/x-python",
   "name": "python",
   "nbconvert_exporter": "python",
   "pygments_lexer": "ipython3",
   "version": "3.9.13"
  }
 },
 "nbformat": 4,
 "nbformat_minor": 5
}
