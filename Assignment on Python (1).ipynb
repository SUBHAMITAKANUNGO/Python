{
 "cells": [
  {
   "cell_type": "markdown",
   "id": "c151239e",
   "metadata": {},
   "source": [
    "## 1. Write a program to print yourself introduction"
   ]
  },
  {
   "cell_type": "code",
   "execution_count": 14,
   "id": "431d9009",
   "metadata": {},
   "outputs": [
    {
     "name": "stdout",
     "output_type": "stream",
     "text": [
      "Name: Subhamita Kanungo\n",
      "State: Odisha,India\n",
      "Degree: CiviL Engineering\n",
      "Course: Advanced Data Analytics\n"
     ]
    }
   ],
   "source": [
    "Msg=\"\"\"Name: Subhamita Kanungo\n",
    "State: Odisha,India\n",
    "Degree: CiviL Engineering\n",
    "Course: Advanced Data Analytics\"\"\"\n",
    "print(Msg)"
   ]
  },
  {
   "cell_type": "markdown",
   "id": "4a494772",
   "metadata": {},
   "source": [
    "## 2. Write a program to perform the arithmetic operations"
   ]
  },
  {
   "cell_type": "markdown",
   "id": "cc045dc8",
   "metadata": {},
   "source": [
    "### Addition"
   ]
  },
  {
   "cell_type": "code",
   "execution_count": 16,
   "id": "4646d655",
   "metadata": {},
   "outputs": [
    {
     "name": "stdout",
     "output_type": "stream",
     "text": [
      "Enter a number50\n",
      "Enter a number45\n",
      "95.0\n"
     ]
    }
   ],
   "source": [
    "x=float(input(\"Enter a number\"))\n",
    "y=float(input(\"Enter a number\"))\n",
    "Result=x+y\n",
    "print(Result)"
   ]
  },
  {
   "cell_type": "markdown",
   "id": "72ef4b46",
   "metadata": {},
   "source": [
    "### Subtraction"
   ]
  },
  {
   "cell_type": "code",
   "execution_count": 21,
   "id": "9d2fb581",
   "metadata": {},
   "outputs": [
    {
     "name": "stdout",
     "output_type": "stream",
     "text": [
      "Enter the first number-10\n",
      "Enter the second number-8\n",
      "-2\n"
     ]
    }
   ],
   "source": [
    "a=int(input(\"Enter the first number\"))\n",
    "b=int(input(\"Enter the second number\"))\n",
    "Result=a-b\n",
    "print(Result)"
   ]
  },
  {
   "cell_type": "markdown",
   "id": "e6d77925",
   "metadata": {},
   "source": [
    "### Multiplication"
   ]
  },
  {
   "cell_type": "code",
   "execution_count": 26,
   "id": "6e22de55",
   "metadata": {},
   "outputs": [
    {
     "name": "stdout",
     "output_type": "stream",
     "text": [
      "Enter the first number25\n",
      "Enter the second number5\n",
      "Multiplication of two numbers 125.0\n"
     ]
    }
   ],
   "source": [
    "Num1=float(input(\"Enter the first number\"))\n",
    "Num2=float(input(\"Enter the second number\"))\n",
    "print(\"Multiplication of two numbers\", Num1*Num2)"
   ]
  },
  {
   "cell_type": "markdown",
   "id": "b89b9815",
   "metadata": {},
   "source": [
    "### Division"
   ]
  },
  {
   "cell_type": "code",
   "execution_count": 27,
   "id": "cc71107c",
   "metadata": {},
   "outputs": [
    {
     "name": "stdout",
     "output_type": "stream",
     "text": [
      "Enter the first number25\n",
      "Enter the second number5\n",
      "Division of two numbers 5.0\n"
     ]
    }
   ],
   "source": [
    "Num1=float(input(\"Enter the first number\"))\n",
    "Num2=float(input(\"Enter the second number\"))\n",
    "Result=Num1/Num2\n",
    "print(\"Division of two numbers\",Result)"
   ]
  },
  {
   "cell_type": "code",
   "execution_count": 28,
   "id": "8e553bb5",
   "metadata": {},
   "outputs": [
    {
     "name": "stdout",
     "output_type": "stream",
     "text": [
      "Enter the first number25\n",
      "Enter the second number5\n",
      "Division of two numbers 5\n"
     ]
    }
   ],
   "source": [
    "Num1=int(input(\"Enter the first number\"))\n",
    "Num2=int(input(\"Enter the second number\"))\n",
    "Result=Num1//Num2\n",
    "print(\"Division of two numbers\",Result)"
   ]
  },
  {
   "cell_type": "markdown",
   "id": "10f6805d",
   "metadata": {},
   "source": [
    "### Modulus"
   ]
  },
  {
   "cell_type": "code",
   "execution_count": 31,
   "id": "5752dc12",
   "metadata": {},
   "outputs": [
    {
     "name": "stdout",
     "output_type": "stream",
     "text": [
      "Enter the first number10\n",
      "Enter the second number3\n",
      "Modulus or Remainder= 1.0\n"
     ]
    }
   ],
   "source": [
    "x=float(input(\"Enter the first number\"))\n",
    "y=float(input(\"Enter the second number\"))\n",
    "Result=x%y\n",
    "print(\"Modulus or Remainder=\",Result)"
   ]
  },
  {
   "cell_type": "markdown",
   "id": "11d13192",
   "metadata": {},
   "source": [
    "### Exponent"
   ]
  },
  {
   "cell_type": "code",
   "execution_count": 4,
   "id": "ec0dcfbb",
   "metadata": {},
   "outputs": [
    {
     "name": "stdout",
     "output_type": "stream",
     "text": [
      "Enter the first number2\n",
      "Enter the second number3\n",
      "Cube of the number= 8\n"
     ]
    }
   ],
   "source": [
    "a=int(input(\"Enter the first number\"))\n",
    "b=int(input(\"Enter the second number\"))\n",
    "Power=a**b\n",
    "print(\"Cube of the number=\",Power)"
   ]
  },
  {
   "cell_type": "markdown",
   "id": "24e333bd",
   "metadata": {},
   "source": [
    "# Basic Input Output-2"
   ]
  },
  {
   "cell_type": "markdown",
   "id": "08693b51",
   "metadata": {},
   "source": [
    "## 1. Write a program to swap two numbers using third variable"
   ]
  },
  {
   "cell_type": "code",
   "execution_count": 1,
   "id": "87e86b78",
   "metadata": {},
   "outputs": [
    {
     "name": "stdout",
     "output_type": "stream",
     "text": [
      "Enter the first number a=20\n",
      "Enter the second number b=40\n",
      "Find revised value of a and b respectively 40 20\n"
     ]
    }
   ],
   "source": [
    "a=int(input(\"Enter the first number a=\"))\n",
    "b=int(input(\"Enter the second number b=\"))\n",
    "temp=a\n",
    "a=b\n",
    "b=temp\n",
    "print(\"Find revised value of a and b respectively\",a,b)"
   ]
  },
  {
   "cell_type": "markdown",
   "id": "df122d22",
   "metadata": {},
   "source": [
    "## 2. Write a program to swap two numbers without using third variable"
   ]
  },
  {
   "cell_type": "code",
   "execution_count": 8,
   "id": "6c29e035",
   "metadata": {},
   "outputs": [
    {
     "name": "stdout",
     "output_type": "stream",
     "text": [
      "Enter the first number x=100\n",
      "Enter the second number y=10\n",
      "Find revised value of x and y respectively 10 100\n"
     ]
    }
   ],
   "source": [
    "x=int(input(\"Enter the first number x=\"))\n",
    "y=int(input(\"Enter the second number y=\"))\n",
    "x=x+y\n",
    "y=x-y\n",
    "x=x-y\n",
    "print(\"Find revised value of x and y respectively\",x,y)"
   ]
  },
  {
   "cell_type": "markdown",
   "id": "6970aaa9",
   "metadata": {},
   "source": [
    "## 3. Write a program to calculate simple interest"
   ]
  },
  {
   "cell_type": "code",
   "execution_count": 3,
   "id": "cf40bc23",
   "metadata": {},
   "outputs": [
    {
     "name": "stdout",
     "output_type": "stream",
     "text": [
      "Enter the principal amount=20000\n",
      "Enter the time period=5\n",
      "Enter the rate of interest=0.05\n",
      "simple interest on given principal amount = 50.0\n"
     ]
    }
   ],
   "source": [
    "P=float(input(\"Enter the principal amount=\"))\n",
    "T=float(input(\"Enter the time period=\"))\n",
    "R=float(input(\"Enter the rate of interest=\"))\n",
    "SI=(P*T*R)/100\n",
    "print(\"simple interest on given principal amount =\",SI)"
   ]
  },
  {
   "cell_type": "markdown",
   "id": "f5a1985a",
   "metadata": {},
   "source": [
    "## 4. Write a program to find average of five numbers"
   ]
  },
  {
   "cell_type": "code",
   "execution_count": 4,
   "id": "bbe26687",
   "metadata": {},
   "outputs": [
    {
     "name": "stdout",
     "output_type": "stream",
     "text": [
      "Average of 5 numbers= 14.3\n"
     ]
    }
   ],
   "source": [
    "a=10,12,14,15.5,20\n",
    "Total=sum(a)\n",
    "Average=Total/5\n",
    "print(\"Average of 5 numbers=\",Average)"
   ]
  },
  {
   "cell_type": "markdown",
   "id": "c7fa199c",
   "metadata": {},
   "source": [
    "## 5. Write a program to calculate the discriminant of a quadratic equation"
   ]
  },
  {
   "cell_type": "code",
   "execution_count": 5,
   "id": "6e7bfadd",
   "metadata": {},
   "outputs": [
    {
     "name": "stdout",
     "output_type": "stream",
     "text": [
      "Enter a=2\n",
      "Enter b=4\n",
      "Enter c=1\n",
      "Discriminant of the quadratic equation= 8\n"
     ]
    }
   ],
   "source": [
    "a=int(input(\"Enter a=\"))\n",
    "b=int(input(\"Enter b=\"))\n",
    "c=int(input(\"Enter c=\"))\n",
    "d=(b**2)-(4*a*c)\n",
    "print(\"Discriminant of the quadratic equation=\",d)"
   ]
  },
  {
   "cell_type": "markdown",
   "id": "58d05ed4",
   "metadata": {},
   "source": [
    "# Basic Input Output-3"
   ]
  },
  {
   "cell_type": "markdown",
   "id": "e1818e4d",
   "metadata": {},
   "source": [
    "## 1. Write a program tp calculate the areas of the following shapes"
   ]
  },
  {
   "cell_type": "markdown",
   "id": "bc246d52",
   "metadata": {},
   "source": [
    "### Rectangle"
   ]
  },
  {
   "cell_type": "code",
   "execution_count": 8,
   "id": "125f23fd",
   "metadata": {},
   "outputs": [
    {
     "name": "stdout",
     "output_type": "stream",
     "text": [
      "Enter the length in cm=8\n",
      "Enter the Breadth in cm=2.5\n",
      "Area of the Rectangle in cm^2= 20.0\n"
     ]
    }
   ],
   "source": [
    "Length=float(input(\"Enter the length in cm=\"))\n",
    "Breadth=float(input(\"Enter the Breadth in cm=\"))\n",
    "print(\"Area of the Rectangle in cm^2=\",Length*Breadth)"
   ]
  },
  {
   "cell_type": "markdown",
   "id": "572eb2e6",
   "metadata": {},
   "source": [
    "### Square"
   ]
  },
  {
   "cell_type": "code",
   "execution_count": 10,
   "id": "00f64e7b",
   "metadata": {},
   "outputs": [
    {
     "name": "stdout",
     "output_type": "stream",
     "text": [
      "Enter the side of square in cm=4\n",
      "Area of the Square in cm^2= 16.0\n"
     ]
    }
   ],
   "source": [
    "Side=float(input(\"Enter the side of square in cm=\"))\n",
    "print(\"Area of the Square in cm^2=\",Side**2)"
   ]
  },
  {
   "cell_type": "markdown",
   "id": "91c20d73",
   "metadata": {},
   "source": [
    "### Triangle"
   ]
  },
  {
   "cell_type": "code",
   "execution_count": 11,
   "id": "9c903ded",
   "metadata": {},
   "outputs": [
    {
     "name": "stdout",
     "output_type": "stream",
     "text": [
      "Enter the base=4\n",
      "Enter the height=3\n",
      "Area of Triangle= 6.0\n"
     ]
    }
   ],
   "source": [
    "B=float(input(\"Enter the base=\"))\n",
    "H=float(input(\"Enter the height=\"))\n",
    "Area=(B*H*0.5)\n",
    "print(\"Area of Triangle=\",Area)"
   ]
  },
  {
   "cell_type": "markdown",
   "id": "aae5b4ba",
   "metadata": {},
   "source": [
    "### Circle"
   ]
  },
  {
   "cell_type": "code",
   "execution_count": 13,
   "id": "ae6c1b52",
   "metadata": {},
   "outputs": [
    {
     "name": "stdout",
     "output_type": "stream",
     "text": [
      "Radius of circle=2\n",
      "Area of circle= 12.564\n"
     ]
    }
   ],
   "source": [
    "R=float(input(\"Radius of circle=\"))\n",
    "Area=R**2*3.141\n",
    "print(\"Area of circle=\",Area)"
   ]
  },
  {
   "cell_type": "markdown",
   "id": "5dfc682a",
   "metadata": {},
   "source": [
    "## 2. Calculate net salary of an employee with below details"
   ]
  },
  {
   "cell_type": "code",
   "execution_count": 18,
   "id": "ac72594b",
   "metadata": {},
   "outputs": [
    {
     "name": "stdout",
     "output_type": "stream",
     "text": [
      "Enter the basic salary=15000\n",
      "DA= 750.0\n",
      "HRA= 1050.0\n",
      "PF= 450.0\n",
      "Net salary of an employee = 16350.0\n"
     ]
    }
   ],
   "source": [
    "Basic=float(input(\"Enter the basic salary=\"))\n",
    "DA=0.05*Basic\n",
    "print(\"DA=\",DA)\n",
    "HRA=0.07*Basic\n",
    "print(\"HRA=\",HRA)\n",
    "PF=0.03*Basic\n",
    "print(\"PF=\",PF)\n",
    "Net=Basic+DA+HRA-PF\n",
    "print(\"Net salary of an employee =\",Net)"
   ]
  },
  {
   "cell_type": "markdown",
   "id": "3644874b",
   "metadata": {},
   "source": [
    "## 3. Write a program to calculate the power of a number"
   ]
  },
  {
   "cell_type": "code",
   "execution_count": 19,
   "id": "ef23b16d",
   "metadata": {},
   "outputs": [
    {
     "name": "stdout",
     "output_type": "stream",
     "text": [
      "Enter a number9\n",
      "Enter a number2\n",
      "square of 9= 81\n"
     ]
    }
   ],
   "source": [
    "a=int(input(\"Enter a number\"))\n",
    "b=int(input(\"Enter a number\"))\n",
    "Power=a**b\n",
    "print(\"square of given number=\",Power)"
   ]
  },
  {
   "cell_type": "markdown",
   "id": "2153aa84",
   "metadata": {},
   "source": [
    "## 4. Write a program to get the python version"
   ]
  },
  {
   "cell_type": "code",
   "execution_count": 20,
   "id": "aa1a246e",
   "metadata": {},
   "outputs": [
    {
     "name": "stdout",
     "output_type": "stream",
     "text": [
      "3.9.13\n"
     ]
    }
   ],
   "source": [
    "from platform import python_version\n",
    "print(python_version())"
   ]
  },
  {
   "cell_type": "code",
   "execution_count": 21,
   "id": "7c7c6483",
   "metadata": {},
   "outputs": [
    {
     "name": "stdout",
     "output_type": "stream",
     "text": [
      "Thank You\n"
     ]
    }
   ],
   "source": [
    "print(\"Thank You\")"
   ]
  },
  {
   "cell_type": "code",
   "execution_count": null,
   "id": "77a00a35",
   "metadata": {},
   "outputs": [],
   "source": []
  }
 ],
 "metadata": {
  "kernelspec": {
   "display_name": "Python 3 (ipykernel)",
   "language": "python",
   "name": "python3"
  },
  "language_info": {
   "codemirror_mode": {
    "name": "ipython",
    "version": 3
   },
   "file_extension": ".py",
   "mimetype": "text/x-python",
   "name": "python",
   "nbconvert_exporter": "python",
   "pygments_lexer": "ipython3",
   "version": "3.9.13"
  }
 },
 "nbformat": 4,
 "nbformat_minor": 5
}
